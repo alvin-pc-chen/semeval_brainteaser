{
 "cells": [
  {
   "cell_type": "code",
   "execution_count": 1,
   "metadata": {},
   "outputs": [],
   "source": [
    "from transformers import AutoModelForMultipleChoice, AutoTokenizer\n",
    "import torch\n",
    "from utils import util\n",
    "import json\n",
    "\n",
    "# Load models\n",
    "# checkpoint_path = \"/Users/alvinchen/Documents/GitHub/brainteaser-data/testing/models/bert-BASED-uncased/\"\n",
    "checkpoint_path = \"models/bert-large-and-in-charge-uncased\"\n",
    "tokenizer = AutoTokenizer.from_pretrained(checkpoint_path)\n",
    "model = AutoModelForMultipleChoice.from_pretrained(checkpoint_path)"
   ]
  },
  {
   "cell_type": "code",
   "execution_count": 2,
   "metadata": {},
   "outputs": [],
   "source": [
    "# Load datasets\n",
    "with open(\"../data/SP/SP_test_clean.json\") as f:\n",
    "    data = f.read()\n",
    "data = json.loads(data)"
   ]
  },
  {
   "cell_type": "code",
   "execution_count": 3,
   "metadata": {},
   "outputs": [],
   "source": [
    "# Evaluate dev set\n",
    "def predict(model, tokenizer, dataset):\n",
    "    preds = []\n",
    "    model.eval()\n",
    "    for sample in dataset:\n",
    "        inputs = [[sample[\"question\"], answer] for answer in sample[\"choice_list\"]]\n",
    "        tokens = tokenizer(inputs, return_tensors=\"pt\", padding=True)\n",
    "        labels = torch.tensor(0).unsqueeze(0)\n",
    "        outputs = model(**{k: v.unsqueeze(0) for k, v in tokens.items()}, labels=labels)\n",
    "        logits = outputs.logits\n",
    "        pred = logits.argmax().item()\n",
    "        preds.append(pred)\n",
    "    return preds\n",
    "\n",
    "preds = predict(model, tokenizer, data)"
   ]
  },
  {
   "cell_type": "code",
   "execution_count": 4,
   "metadata": {},
   "outputs": [
    {
     "name": "stdout",
     "output_type": "stream",
     "text": [
      "[0, 2, 2, 1, 3, 0, 0, 1, 3, 1, 1, 0, 2, 0, 0, 1, 0, 2, 2, 0, 0, 1, 1, 0, 0, 0, 0, 2, 0, 2, 2, 2, 2, 2, 2, 2, 3, 0, 1, 0, 1, 1, 0, 0, 2, 2, 2, 2, 0, 2, 0, 0, 3, 1, 2, 0, 2, 1, 1, 1, 0, 1, 1, 1, 3, 3, 2, 1, 2, 0, 3, 0, 0, 2, 1, 2, 3, 2, 1, 0, 1, 2, 3, 0, 2, 1, 3, 2, 3, 2, 3, 0, 3, 0, 2, 3, 1, 2, 0, 2, 1, 1, 0, 2, 2, 2, 3, 2, 3, 3, 1, 3, 1, 2, 2, 3, 2, 1, 1, 2]\n"
     ]
    }
   ],
   "source": [
    "print(preds)"
   ]
  },
  {
   "cell_type": "code",
   "execution_count": 5,
   "metadata": {},
   "outputs": [],
   "source": [
    "with open(\"../submission/answer_sen.txt\", \"w\") as f:\n",
    "    for pred in preds:\n",
    "        f.write(str(pred) + \"\\n\")"
   ]
  },
  {
   "cell_type": "code",
   "execution_count": 5,
   "metadata": {},
   "outputs": [
    {
     "name": "stdout",
     "output_type": "stream",
     "text": [
      "120\n"
     ]
    }
   ],
   "source": []
  }
 ],
 "metadata": {
  "kernelspec": {
   "display_name": "brainteasers",
   "language": "python",
   "name": "python3"
  },
  "language_info": {
   "codemirror_mode": {
    "name": "ipython",
    "version": 3
   },
   "file_extension": ".py",
   "mimetype": "text/x-python",
   "name": "python",
   "nbconvert_exporter": "python",
   "pygments_lexer": "ipython3",
   "version": "3.10.13"
  }
 },
 "nbformat": 4,
 "nbformat_minor": 2
}
