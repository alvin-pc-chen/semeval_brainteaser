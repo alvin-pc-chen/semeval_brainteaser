{
 "cells": [
  {
   "cell_type": "code",
   "execution_count": 1,
   "metadata": {},
   "outputs": [],
   "source": [
    "from transformers import AutoModelForMultipleChoice, AutoTokenizer\n",
    "import torch\n",
    "from utils import util\n",
    "\n",
    "# Load models\n",
    "checkpoint_path = \"/Users/alvinchen/Documents/GitHub/brainteaser-data/testing/models/bert-BASED-uncased/\"\n",
    "tokenizer = AutoTokenizer.from_pretrained(checkpoint_path)\n",
    "model = AutoModelForMultipleChoice.from_pretrained(checkpoint_path)"
   ]
  },
  {
   "cell_type": "code",
   "execution_count": 2,
   "metadata": {},
   "outputs": [
    {
     "name": "stdout",
     "output_type": "stream",
     "text": [
      "Loaded WP-train.npy at index 0\n",
      "Loaded SP_eval_data_for_practice.npy at index 1\n",
      "Loaded SP-train.npy at index 2\n",
      "Loaded WP_eval_data_for_practice.npy at index 3\n"
     ]
    }
   ],
   "source": [
    "# Load datasets\n",
    "dataset, keys = util.load_data()\n",
    "test = dataset[1]\n",
    "valid = dataset[2][-101:]"
   ]
  },
  {
   "cell_type": "code",
   "execution_count": 3,
   "metadata": {},
   "outputs": [],
   "source": [
    "# Evaluate dev set\n",
    "def predict(model, tokenizer, dataset):\n",
    "    preds = []\n",
    "    model.eval()\n",
    "    for sample in dataset:\n",
    "        inputs = [[sample[\"question\"], answer] for answer in sample[\"choice_list\"]]\n",
    "        tokens = tokenizer(inputs, return_tensors=\"pt\", padding=True)\n",
    "        labels = torch.tensor(0).unsqueeze(0)\n",
    "        outputs = model(**{k: v.unsqueeze(0) for k, v in tokens.items()}, labels=labels)\n",
    "        logits = outputs.logits\n",
    "        pred = logits.argmax().item()\n",
    "        preds.append(pred)\n",
    "    return preds\n",
    "\n",
    "preds = predict(model, tokenizer, valid)\n",
    "valid_labs = [int(i[\"label\"]) for i in valid]"
   ]
  },
  {
   "cell_type": "code",
   "execution_count": 4,
   "metadata": {},
   "outputs": [
    {
     "name": "stdout",
     "output_type": "stream",
     "text": [
      "Accuracy:  0.6732673267326733\n",
      "F1:  0.6693775243525777\n"
     ]
    }
   ],
   "source": [
    "f1 = util.avg_f1_score(preds, valid_labs, [0,1,2,3])\n",
    "accuracy = util.accuracy(preds, valid_labs)\n",
    "print(\"Accuracy: \", accuracy)\n",
    "print(\"F1: \", f1)"
   ]
  },
  {
   "cell_type": "code",
   "execution_count": 5,
   "metadata": {},
   "outputs": [
    {
     "name": "stdout",
     "output_type": "stream",
     "text": [
      "120\n"
     ]
    }
   ],
   "source": []
  }
 ],
 "metadata": {
  "kernelspec": {
   "display_name": "brainteasers",
   "language": "python",
   "name": "python3"
  },
  "language_info": {
   "codemirror_mode": {
    "name": "ipython",
    "version": 3
   },
   "file_extension": ".py",
   "mimetype": "text/x-python",
   "name": "python",
   "nbconvert_exporter": "python",
   "pygments_lexer": "ipython3",
   "version": "3.10.13"
  }
 },
 "nbformat": 4,
 "nbformat_minor": 2
}
