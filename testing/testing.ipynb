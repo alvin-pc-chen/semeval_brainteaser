{
 "cells": [
  {
   "cell_type": "code",
   "execution_count": 1,
   "metadata": {},
   "outputs": [
    {
     "name": "stdout",
     "output_type": "stream",
     "text": [
      "Loaded WP-train.npy at index 0\n",
      "Loaded SP_eval_data_for_practice.npy at index 1\n",
      "Loaded SP-train.npy at index 2\n",
      "Loaded WP_eval_data_for_practice.npy at index 3\n"
     ]
    }
   ],
   "source": [
    "# Load data\n",
    "import util\n",
    "import random\n",
    "import numpy as np\n",
    "\n",
    "\n",
    "dataset, datakey = util.load_data()\n",
    "#TODO split data\n",
    "# wp_train = dataset[0]\n",
    "# sp_eval = dataset[1]\n",
    "# sp_train = dataset[2]\n",
    "# wp_eval = dataset[3]"
   ]
  },
  {
   "cell_type": "code",
   "execution_count": null,
   "metadata": {},
   "outputs": [],
   "source": [
    "# Initialize GPT Model\n",
    "import keys\n",
    "import os\n",
    "import random\n",
    "from openai import OpenAI\n",
    "from util import avg_f1_score\n",
    "\n",
    "os.environ['OPENAI_API_KEY'] = keys.WX\n",
    "client = OpenAI()\n",
    "client.api_key = os.getenv('OPENAI_API_KEY')\n",
    "\n",
    "# Model settings\n",
    "MODEL = \"gpt-3.5-turbo\"\n",
    "SYSTEM_PROMPT = {\"role\": \"system\", \"content\": \"You are a Question Answering Model, your response must be a number from the choices that are delimited by the symbol \\\";\\\" .\"}\n",
    "MULTI_PREFIX = \"You are a Question Answering Model, your response must be a number from the choices that are delimited by the symbol \\\";\\\". Here are some examples: \\n\"\n",
    "SP_QUESTION = \"Think outside of the box and respond with the number corresponding to the best choice for the following question.\\n\\nQuestion: \"\n",
    "WP_QUESTION = \"For the following word problem, look at the meaning and letters in the words and respond with the number corresponding to the best choice.\\n\\nQuestion: \"\n",
    "\n",
    "\n",
    "# Testing functions\n",
    "def generate_prompt(question, prefix):\n",
    "    choices = \"\".join(str(i) + \" = \" + question[\"choice_list\"][i] + \"; \" for i in range(4))\n",
    "    content = prefix + \"\\\"\" + question[\"question\"] + \"\\\"\\nChoices: \" + choices + \"\\nResponse: \"\n",
    "    return {\"role\": \"user\", \"content\": content}\n",
    "\n",
    "\n",
    "def multishot_prompt(training, prefix):\n",
    "    prompt = prefix\n",
    "    for i in range(len(training)):\n",
    "        choices = \"\".join(str(j) + \" = \" + training[i][\"choice_list\"][j] + \"; \" for j in range(4))\n",
    "        prompt += \"Question: \" + \"\\\"\" + training[i][\"question\"] + \"\\\"\\nChoices: \" + choices + \"\\nResponse: \" + training[i][\"label\"] + \"\\n\"\n",
    "    return {\"role\": \"system\", \"content\": prompt}\n",
    "\n",
    "\n",
    "def run_test_nofinetune(dataset,\n",
    "            question_prompt,\n",
    "            n=20,\n",
    "            training_data=None,\n",
    "            m=30,\n",
    "            model=MODEL,\n",
    "            system_prompt=SYSTEM_PROMPT,\n",
    "            multi_prefix=MULTI_PREFIX,\n",
    "            classes=[0, 1, 2, 3],):\n",
    "    \"\"\"\n",
    "    Dataset is a list of dicts, each dict contains question, choices, and answer\n",
    "    training_data either none or list of training data\n",
    "    n=20 is the number of questions to test\n",
    "    m=30 is the number of training examples to use\n",
    "    no finetuning means some outputs may not be ints, non-ints will be set as incorrect answer\n",
    "    return avg f1 score\n",
    "    \"\"\"\n",
    "    answers = []\n",
    "    labels = []\n",
    "    log = []\n",
    "    # Randomize dataset\n",
    "    random.shuffle(dataset)\n",
    "    if training_data is not None:\n",
    "        random.shuffle(training_data)\n",
    "    # Run test\n",
    "    for i in range(n):\n",
    "        user_prompt = generate_prompt(dataset[i], question_prompt)\n",
    "        if training_data is not None:\n",
    "            prompt = [multishot_prompt(training_data[:m], multi_prefix), user_prompt]\n",
    "        else:\n",
    "            prompt = [system_prompt, user_prompt]\n",
    "        response = client.chat.completions.create(model=model, messages=prompt)\n",
    "        print(prompt[1][\"content\"] + \n",
    "              response.choices[0].message.content + \" \" + \n",
    "              dataset[i][\"choice_list\"][int(response.choices[0].message.content)])\n",
    "        print(\"Correct Answer: \" + str(dataset[i][\"label\"]) + \" \" + dataset[i][\"answer\"] + \"\\n\")\n",
    "    # Get F1\n",
    "    f1 = avg_f1_score(answers, labels, classes)\n",
    "    return f1"
   ]
  }
 ],
 "metadata": {
  "kernelspec": {
   "display_name": "NLPytorch",
   "language": "python",
   "name": "python3"
  },
  "language_info": {
   "codemirror_mode": {
    "name": "ipython",
    "version": 3
   },
   "file_extension": ".py",
   "mimetype": "text/x-python",
   "name": "python",
   "nbconvert_exporter": "python",
   "pygments_lexer": "ipython3",
   "version": "3.10.12"
  }
 },
 "nbformat": 4,
 "nbformat_minor": 2
}
