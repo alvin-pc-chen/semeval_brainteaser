{
 "cells": [
  {
   "cell_type": "code",
   "execution_count": 1,
   "metadata": {},
   "outputs": [],
   "source": [
    "# Imports\n",
    "from openai import OpenAI\n",
    "\n",
    "import os\n",
    "\n",
    "from utils import constants\n",
    "from utils import util\n",
    "from utils import keys\n",
    "from utils import prompts"
   ]
  },
  {
   "cell_type": "code",
   "execution_count": 2,
   "metadata": {},
   "outputs": [
    {
     "name": "stdout",
     "output_type": "stream",
     "text": [
      "Loaded WP-train.npy at index 0\n",
      "Loaded SP_eval_data_for_practice.npy at index 1\n",
      "Loaded SP-train.npy at index 2\n",
      "Loaded WP_eval_data_for_practice.npy at index 3\n"
     ]
    }
   ],
   "source": [
    "# Load data and Initialize OpenAI\n",
    "os.environ['OPENAI_API_KEY'] = keys.WX\n",
    "client = OpenAI()\n",
    "client.api_key = os.getenv('OPENAI_API_KEY')\n",
    "\n",
    "dataset, datakey = util.load_data()\n",
    "# wp_all = dataset[0]\n",
    "sp_test = dataset[1]\n",
    "sp_all = dataset[2]\n",
    "# wp_test = dataset[3]\n",
    "# wp_base, wp_sr, wp_cr = util.split_data_by_type(wp_all)\n",
    "# sp_base, sp_sr, sp_cr = util.split_data_by_type(sp_all)"
   ]
  },
  {
   "cell_type": "code",
   "execution_count": 3,
   "metadata": {},
   "outputs": [],
   "source": [
    "# Model settings\n",
    "MODEL = \"gpt-3.5-turbo\"\n",
    "SYSTEM_PROMPT = {\"role\": \"system\", \n",
    "                 \"content\": \"You are a Question Answering Model, your response must be a number from the choices that are delimited by the symbol \\\";\\\" .\"}\n",
    "MULTI_PREFIX = \"You are a Question Answering Model, your response must be a number from the choices that are delimited by the symbol \\\";\\\". Here are some examples: \\n\"\n",
    "SP_QUESTION = \"Think outside of the box and respond with the number corresponding to the best choice for the following question.\\nQuestion: \"\n",
    "WP_QUESTION = \"For the following word problem, look at the meaning and letters in the words and respond with the number corresponding to the best choice.\\nQuestion: \""
   ]
  },
  {
   "cell_type": "code",
   "execution_count": 7,
   "metadata": {},
   "outputs": [],
   "source": [
    "# Eval Multishot GPT3.5-TURBO\n",
    "preds = util.run_eval_cot(client, MODEL, sp_test, prompts.CHAIN_SP_BASE, prompts.CHAIN_SYSTEM, MULTI_PREFIX, m=0, n=len(sp_test))"
   ]
  },
  {
   "cell_type": "code",
   "execution_count": 8,
   "metadata": {},
   "outputs": [
    {
     "name": "stdout",
     "output_type": "stream",
     "text": [
      "Saved submission to /Users/alvinchen/Documents/GitHub/brainteaser-data/submission/answer_sen.txt\n"
     ]
    }
   ],
   "source": [
    "util.submission_log(preds, \"answer_sen\")"
   ]
  },
  {
   "cell_type": "code",
   "execution_count": 98,
   "metadata": {},
   "outputs": [],
   "source": [
    "import re\n",
    "\n",
    "with open(\"test_logs/gpt-3.5-turbo_eval_2023-12-18_21-48-05.log\", \"r\") as f:\n",
    "    raw = f.readlines()\n",
    "lines = raw[30:]"
   ]
  },
  {
   "cell_type": "code",
   "execution_count": 99,
   "metadata": {},
   "outputs": [],
   "source": [
    "# Copy answers and ids\n",
    "ans = {}\n",
    "for i in range(len(lines)-1):\n",
    "    m = re.search(r\"Question [0-9]+:\", lines[i])\n",
    "    if m is not None:\n",
    "        n = m.group(0)\n",
    "        id = int(re.search(r\"[0-9]+\", n).group(0))\n",
    "        an = re.search(r\"answer is [0-3]\", lines[i+1])\n",
    "        if an is not None:\n",
    "            an = int(an.group(0)[-1])\n",
    "            ans[id] = an"
   ]
  },
  {
   "cell_type": "code",
   "execution_count": 100,
   "metadata": {},
   "outputs": [
    {
     "name": "stdout",
     "output_type": "stream",
     "text": [
      "[3, 23, 26, 28, 31, 34, 38, 58, 59, 92, 95, 114]\n"
     ]
    }
   ],
   "source": [
    "notin = []\n",
    "for i in range(1, 120):\n",
    "    if i not in ans:\n",
    "        notin.append(i)\n",
    "print(notin)"
   ]
  },
  {
   "cell_type": "code",
   "execution_count": 102,
   "metadata": {},
   "outputs": [
    {
     "name": "stdout",
     "output_type": "stream",
     "text": [
      "[38, 47, 98, 39, 5, 23, 3, 102, 51, 28, 50, 77, 1, 24, 88, 94, 71, 85, 11, 111, 93, 86, 119, 66, 104, 108, 61, 60, 116, 73, 59, 110, 52, 72, 36, 17, 92, 21, 69, 62, 113, 107, 90, 81, 112, 35, 16, 57, 19, 40, 43, 70, 46, 79, 13, 83, 64, 18, 49, 27, 58, 115, 31, 33, 2, 109, 6, 9, 8, 97, 84, 41, 89, 10, 101, 91, 53, 106, 55, 117, 82, 99, 37, 56, 87, 105, 44, 100, 67, 22, 20, 15, 12, 103, 75, 4, 7, 14, 29, 34, 32, 42, 65, 95, 25, 96, 114, 30, 54, 118, 63, 76, 0, 26, 74, 78, 45, 80, 68, 48]\n"
     ]
    }
   ],
   "source": [
    "repeatid = []\n",
    "test_questions = []\n",
    "order = []\n",
    "for data in sp_test:\n",
    "    test_questions.append(data[\"question\"])\n",
    "for data in sp_all:\n",
    "    if data[\"question\"] in test_questions:\n",
    "        repeatid.append(data[\"id\"])\n",
    "        m = [i for i in range(len(test_questions)) if test_questions[i] == data[\"question\"]][0]\n",
    "        order.append(m)\n",
    "print(order)"
   ]
  },
  {
   "cell_type": "code",
   "execution_count": 104,
   "metadata": {},
   "outputs": [],
   "source": [
    "correct = []\n",
    "label = []\n",
    "choices = []\n",
    "for i in order:\n",
    "    id = repeatid[i]\n",
    "    for data in sp_all:\n",
    "        if data[\"id\"] == id:\n",
    "            correct.append(data[\"answer\"])\n",
    "            label.append(data[\"label\"])\n",
    "            choices.append(\"\".join(str(j) + \" = \" + data[\"choice_list\"][j] + \"; \" for j in range(4)))"
   ]
  },
  {
   "cell_type": "code",
   "execution_count": 105,
   "metadata": {},
   "outputs": [],
   "source": [
    "with open(\"../submission/answer_sen.txt\", \"r\") as f:\n",
    "    answers = f.readlines()\n",
    "\n",
    "with open(\"chain_of_thought_output.txt\", \"w\") as f:\n",
    "    for r in raw[:29]:\n",
    "        f.write(r)\n",
    "    for i in range(120):\n",
    "        f.write(lines[i*3])\n",
    "        f.write(\"Choices: \" + choices[i] + \"\\n\")\n",
    "        f.write(lines[i*3+1])\n",
    "        answer = answers[i].strip()\n",
    "        f.write(f\"Corresponding Answer: {str(answer)} = {sp_test[i]['choice_list'][int(answers[i])]}\\n\")\n",
    "        f.write(f\"Correct Answer: {label[i]} = {correct[i]}\\n\")\n",
    "        f.write(\"\\n\")"
   ]
  }
 ],
 "metadata": {
  "kernelspec": {
   "display_name": "NLPytorch",
   "language": "python",
   "name": "python3"
  },
  "language_info": {
   "codemirror_mode": {
    "name": "ipython",
    "version": 3
   },
   "file_extension": ".py",
   "mimetype": "text/x-python",
   "name": "python",
   "nbconvert_exporter": "python",
   "pygments_lexer": "ipython3",
   "version": "3.10.13"
  }
 },
 "nbformat": 4,
 "nbformat_minor": 2
}
