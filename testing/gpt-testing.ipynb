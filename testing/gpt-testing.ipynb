{
 "cells": [
  {
   "cell_type": "code",
   "execution_count": 1,
   "metadata": {},
   "outputs": [],
   "source": [
    "# Imports\n",
    "from openai import OpenAI\n",
    "\n",
    "import os\n",
    "\n",
    "from utils import constants\n",
    "from utils import util\n",
    "from utils import keys"
   ]
  },
  {
   "cell_type": "code",
   "execution_count": 2,
   "metadata": {},
   "outputs": [
    {
     "name": "stdout",
     "output_type": "stream",
     "text": [
      "Loaded WP-train.npy at index 0\n",
      "Loaded SP_eval_data_for_practice.npy at index 1\n",
      "Loaded SP-train.npy at index 2\n",
      "Loaded WP_eval_data_for_practice.npy at index 3\n"
     ]
    }
   ],
   "source": [
    "# Load data and Initialize OpenAI\n",
    "os.environ['OPENAI_API_KEY'] = keys.WX\n",
    "client = OpenAI()\n",
    "client.api_key = os.getenv('OPENAI_API_KEY')\n",
    "\n",
    "dataset, datakey = util.load_data()\n",
    "# wp_all = dataset[0]\n",
    "sp_test = dataset[1]\n",
    "sp_all = dataset[2]\n",
    "# wp_test = dataset[3]\n",
    "# wp_base, wp_sr, wp_cr = util.split_data_by_type(wp_all)\n",
    "# sp_base, sp_sr, sp_cr = util.split_data_by_type(sp_all)"
   ]
  },
  {
   "cell_type": "code",
   "execution_count": 3,
   "metadata": {},
   "outputs": [],
   "source": [
    "# Model settings\n",
    "MODEL = \"gpt-3.5-turbo\"\n",
    "SYSTEM_PROMPT = {\"role\": \"system\", \n",
    "                 \"content\": \"You are a Question Answering Model, your response must be a number from the choices that are delimited by the symbol \\\";\\\" .\"}\n",
    "MULTI_PREFIX = \"You are a Question Answering Model, your response must be a number from the choices that are delimited by the symbol \\\";\\\". Here are some examples: \\n\"\n",
    "SP_QUESTION = \"Think outside of the box and respond with the number corresponding to the best choice for the following question.\\nQuestion: \"\n",
    "WP_QUESTION = \"For the following word problem, look at the meaning and letters in the words and respond with the number corresponding to the best choice.\\nQuestion: \""
   ]
  },
  {
   "cell_type": "code",
   "execution_count": 4,
   "metadata": {},
   "outputs": [],
   "source": [
    "# Eval Multishot GPT3.5-TURBO\n",
    "preds = util.run_eval_nofinetune(client, MODEL, sp_test, SP_QUESTION, SYSTEM_PROMPT, MULTI_PREFIX, training_data=sp_all, m=15, n=len(sp_test))"
   ]
  },
  {
   "cell_type": "code",
   "execution_count": 6,
   "metadata": {},
   "outputs": [
    {
     "name": "stdout",
     "output_type": "stream",
     "text": [
      "Saved submission to /Users/alvinchen/Documents/GitHub/brainteaser-data/submission/answer_sen.txt\n"
     ]
    }
   ],
   "source": [
    "util.submission_log(preds, \"answer_sen\")"
   ]
  }
 ],
 "metadata": {
  "kernelspec": {
   "display_name": "NLPytorch",
   "language": "python",
   "name": "python3"
  },
  "language_info": {
   "codemirror_mode": {
    "name": "ipython",
    "version": 3
   },
   "file_extension": ".py",
   "mimetype": "text/x-python",
   "name": "python",
   "nbconvert_exporter": "python",
   "pygments_lexer": "ipython3",
   "version": "3.10.13"
  }
 },
 "nbformat": 4,
 "nbformat_minor": 2
}
