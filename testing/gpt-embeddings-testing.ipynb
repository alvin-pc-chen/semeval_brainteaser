{
 "cells": [
  {
   "cell_type": "code",
   "execution_count": 1,
   "metadata": {},
   "outputs": [],
   "source": [
    "# Imports\n",
    "from utils import constants\n",
    "from utils import util\n",
    "from utils import keys"
   ]
  },
  {
   "cell_type": "code",
   "execution_count": 2,
   "metadata": {},
   "outputs": [
    {
     "name": "stdout",
     "output_type": "stream",
     "text": [
      "Loaded ada-sp_all_2023-12-07.npy at index 0\n",
      "Loaded ada-wp_all_2023-12-07.npy at index 1\n"
     ]
    }
   ],
   "source": [
    "# Load embeddings\n",
    "embedset, embedkey = util.load_data(path=constants.EMBEDDINGS)\n",
    "# Split data\n",
    "embeddings = []\n",
    "ids = []\n",
    "labels = []\n",
    "for i in embedset[0]:\n",
    "    embeddings.append(i[\"embedding\"])\n",
    "    ids.append(i[\"id\"])\n",
    "    labels.append(i[\"label\"])\n",
    "data = list(zip(embeddings, ids, labels))\n",
    "train, dev = util.split_data(data, 0.8)\n",
    "sp_train_embeddings, sp_train_ids, sp_train_labels = zip(*train)\n",
    "sp_dev_embeddings, sp_dev_ids, sp_dev_labels = zip(*dev)\n",
    "sp_train_embeddings = list(sp_train_embeddings)\n",
    "sp_dev_embeddings = list(sp_dev_embeddings)\n",
    "sp_train_ids = list(sp_train_ids)\n",
    "sp_dev_ids = list(sp_dev_ids)\n",
    "sp_train_labels = list(sp_train_labels)\n",
    "sp_dev_labels = list(sp_dev_labels)"
   ]
  },
  {
   "cell_type": "code",
   "execution_count": 3,
   "metadata": {},
   "outputs": [
    {
     "name": "stdout",
     "output_type": "stream",
     "text": [
      "Accuracy:  0.49019607843137253\n",
      "F1:  0.3786983995747948\n"
     ]
    }
   ],
   "source": [
    "# Try linear classifier\n",
    "from sklearn.linear_model import LogisticRegression\n",
    "from sklearn.metrics import accuracy_score\n",
    "from sklearn.metrics import f1_score\n",
    "\n",
    "clf = LogisticRegression(random_state=0).fit(sp_train_embeddings, sp_train_labels)\n",
    "predictions = clf.predict(sp_dev_embeddings)\n",
    "f1 = f1_score(sp_dev_labels, predictions, average='macro')\n",
    "accuracy = accuracy_score(sp_dev_labels, predictions)\n",
    "print(\"Accuracy: \", accuracy)\n",
    "print(\"F1: \", f1)"
   ]
  },
  {
   "cell_type": "code",
   "execution_count": null,
   "metadata": {},
   "outputs": [],
   "source": [
    "# log results\n",
    "dataset, datakey = util.load_data()\n",
    "sp_all = dataset[2]\n",
    "answers = [int(i) for i in predictions]\n",
    "util.log_results(answers,\n",
    "                sp_dev_ids,\n",
    "                sp_all,\n",
    "                \"sklearn-linear\",\n",
    "                f1,\n",
    "                accuracy)"
   ]
  }
 ],
 "metadata": {
  "kernelspec": {
   "display_name": "brainteaser",
   "language": "python",
   "name": "python3"
  },
  "language_info": {
   "codemirror_mode": {
    "name": "ipython",
    "version": 3
   },
   "file_extension": ".py",
   "mimetype": "text/x-python",
   "name": "python",
   "nbconvert_exporter": "python",
   "pygments_lexer": "ipython3",
   "version": "3.10.13"
  }
 },
 "nbformat": 4,
 "nbformat_minor": 2
}
