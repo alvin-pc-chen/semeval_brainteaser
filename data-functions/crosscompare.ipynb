{
 "cells": [
  {
   "cell_type": "code",
   "execution_count": 8,
   "metadata": {},
   "outputs": [
    {
     "name": "stdout",
     "output_type": "stream",
     "text": [
      "[120, 120, 120, 120, 120, 120, 120]\n"
     ]
    }
   ],
   "source": [
    "# Imports\n",
    "import numpy as np\n",
    "import csv\n",
    "import json\n",
    "\n",
    "score_files = {\n",
    "    \"base_new\": \"../submission/comparison/cot_base_new.txt\",\n",
    "    \"base\": \"../submission/comparison/cot_base.txt\",\n",
    "    \"cr\": \"../submission/comparison/cot_cr.txt\",\n",
    "    \"sr\": \"../submission/comparison/cot_sr.txt\",\n",
    "    \"mix_new\": \"../submission/comparison/cot_mix_new.txt\",\n",
    "    \"mix\": \"../submission/comparison/cot_mix.txt\",\n",
    "    \"human\": \"../submission/comparison/human.txt\"\n",
    "}\n",
    "scores = {}\n",
    "for file in score_files:\n",
    "    with open(score_files[file], \"r\") as f:\n",
    "        lines = f.readlines()\n",
    "        scores[file] = [int(line.strip()) for line in lines if line.strip() != \"\"]"
   ]
  },
  {
   "cell_type": "code",
   "execution_count": 10,
   "metadata": {},
   "outputs": [],
   "source": [
    "# Read in answers\n",
    "with open(\"../data/SP/SP_test_clean.json\", \"r\", encoding='utf-8') as f:\n",
    "    data = json.load(f)\n",
    "comparison = []\n",
    "for i, item in enumerate(data):\n",
    "    comparison.append({\n",
    "        \"id\": item[\"id\"],\n",
    "        \"question\": item[\"question\"],\n",
    "        \"answer\": item[\"answer\"],\n",
    "        \"label\": item[\"label\"],\n",
    "        \"choice_list\": item[\"choice_list\"],\n",
    "        \"base_new\": scores[\"base_new\"][i],\n",
    "        \"base\": scores[\"base\"][i],\n",
    "        \"cr\": scores[\"cr\"][i],\n",
    "        \"sr\": scores[\"sr\"][i],\n",
    "        \"mix_new\": scores[\"mix_new\"][i],\n",
    "        \"mix\": scores[\"mix\"][i],\n",
    "        \"human\": scores[\"human\"][i]\n",
    "    })\n",
    "\n",
    "with open(\"comparison.json\", \"w\") as f:\n",
    "    json.dump(comparison, f, indent=4)"
   ]
  },
  {
   "cell_type": "code",
   "execution_count": 21,
   "metadata": {},
   "outputs": [
    {
     "name": "stdout",
     "output_type": "stream",
     "text": [
      "21 5 9 8 6\n"
     ]
    }
   ],
   "source": [
    "human_wrongs = [item for item in comparison if item[\"human\"] != item[\"label\"]]\n",
    "all_wrongs = [item for item in comparison if item[\"base_new\"] != item[\"label\"] and item[\"base\"] != item[\"label\"] and item[\"cr\"] != item[\"label\"] and item[\"sr\"] != item[\"label\"] and item[\"mix_new\"] != item[\"label\"] and item[\"mix\"] != item[\"label\"] and item[\"human\"] != item[\"label\"]]\n",
    "old_wrongs = [item for item in comparison if item[\"base\"] != item[\"label\"] and item[\"mix\"] != item[\"label\"]]\n",
    "new_wrongs = [item for item in comparison if item[\"base_new\"] != item[\"label\"] and item[\"mix_new\"] != item[\"label\"] and item[\"cr\"] != item[\"label\"] and item[\"sr\"] != item[\"label\"]]\n",
    "machine_wrongs = [item for item in comparison if item[\"base_new\"] != item[\"label\"] and item[\"base\"] != item[\"label\"] and item[\"cr\"] != item[\"label\"] and item[\"sr\"] != item[\"label\"] and item[\"mix_new\"] != item[\"label\"] and item[\"mix\"] != item[\"label\"]]\n",
    "print(len(human_wrongs), len(all_wrongs), len(old_wrongs), len(new_wrongs), len(machine_wrongs))"
   ]
  },
  {
   "cell_type": "code",
   "execution_count": 32,
   "metadata": {},
   "outputs": [
    {
     "name": "stdout",
     "output_type": "stream",
     "text": [
      "Base New:  15\n",
      "Base:  17\n",
      "CR:  18\n",
      "SR:  16\n",
      "Mix New:  12\n",
      "Mix:  13\n",
      "Human:  21\n",
      "Human and Base Overlap:  10\n"
     ]
    }
   ],
   "source": [
    "print(\"Base New: \", len([item for item in comparison if item[\"base_new\"] != item[\"label\"]]))\n",
    "print(\"Base: \", len([item for item in comparison if item[\"base\"] != item[\"label\"]]))\n",
    "print(\"CR: \", len([item for item in comparison if item[\"cr\"] != item[\"label\"]]))\n",
    "print(\"SR: \", len([item for item in comparison if item[\"sr\"] != item[\"label\"]]))\n",
    "print(\"Mix New: \", len([item for item in comparison if item[\"mix_new\"] != item[\"label\"]]))\n",
    "print(\"Mix: \", len([item for item in comparison if item[\"mix\"] != item[\"label\"]]))\n",
    "print(\"Human: \", len([item for item in comparison if item[\"human\"] != item[\"label\"]]))\n",
    "first_comp = [item for item in comparison if item[\"human\"] != item[\"label\"] and item[\"base\"] != item[\"label\"]]\n",
    "print(\"Human and Base Overlap: \", len(first_comp))"
   ]
  },
  {
   "cell_type": "code",
   "execution_count": 33,
   "metadata": {},
   "outputs": [
    {
     "name": "stdout",
     "output_type": "stream",
     "text": [
      "SP-191_CR\n",
      "How many times can you divide 100 by 10?\n",
      "['Infinite times.', 'Once.', 'Two times.', 'None of above.']\n",
      "1 2 0\n",
      "\n",
      "SP-120_CR\n",
      "Mark was in a playground where somebody noticed a great player playing and with the announcements, gathered a lot of people. There were many great players from basketball, volleyball, football, and even swimmers, But Mark directly went to the footballer and took a photo with him. How did he know who was the person that people got excited for in the first place?\n",
      "[\"Since the playground was a football playground and the other players could've not been playing in the playground at the time of the announcement\", 'Since Mark was a crazy fan of football, only a football player can be considered as great player in his mind.', \"Since Mark stood closest to the football players, he only focused on football players and didn't notice others.\", 'None of above.']\n",
      "0 3 3\n",
      "\n",
      "SP-30_CR\n",
      "Why do old people consume more food than young people.\n",
      "['Older adults may have specific dietary requirements to address age-related issues', 'Older people require increased nutrient intake to support overall health and well-being.', 'Because older people live longer.', 'None of above.']\n",
      "2 3 3\n",
      "\n",
      "SP-184_CR\n",
      "Five people were at a football match, and a sudden shower started. The four that rushed to take cover still got soaked, but the one who didn't move stayed completely dry. Why didn't he get wet?\n",
      "['The man is an excellent football player that can avoid rain in high speed.', 'The man was lucky enough to avoid all the rain.', 'He was a photograph, the other people were there to honor a former player.', 'None of above.']\n",
      "2 3 3\n",
      "\n",
      "SP-156_CR\n",
      "A driver is told to make a stop every half an hour for the engine to cool down, for five times. How long do the stops take?\n",
      "['Three hours.', 'Two and a half hours.', 'Two hours.', 'None of above.']\n",
      "2 3 3\n",
      "\n",
      "SP-16_SR\n",
      "Crossing a lush and muddy meadow are three men. The third man's feet are still dry despite the fact that only two of them are wearing rubber boots. Why?\n",
      "['The ground is not wet.', 'By walking on stilts, the third man elevates his feet above the wet ground.', 'The third man is walking on his hands.', 'None of above.']\n",
      "0 1 1\n",
      "\n",
      "SP-189_CR\n",
      "How can you toss a fragile glass ball against a sturdy brick wall from a distance without shattering it?\n",
      "['No problem, because sturdy bricks are very hard to crack', 'You need to throw the glass ball hard.', 'You need to throw the glass ball gently.', 'None of above.']\n",
      "0 3 2\n",
      "\n",
      "SP-183_CR\n",
      "You wanted to reserve a table in a restaurant but they told you all their tables were already booked. however, when you're passing by, you see that there is not a single person eating in the restaurant. Why did they tell you that all their tables were fully booked?\n",
      "['All the people left the restaurant in a moment.', 'The resturant was soo big that all the people can hide themselves in a moment.', 'All the people in the restaurant are in relationships.', 'None of above.']\n",
      "2 3 3\n",
      "\n",
      "SP-181_CR\n",
      "You enter a room with five of the organization' heads. All of them are there to make an important decision. How many heads are there in the room?\n",
      "['Ten.', 'Five.', 'One.', 'None of above.']\n",
      "3 1 1\n",
      "\n",
      "SP-182\n",
      "If you paint a brown house white it will become a white house. If the spotlight changes from red to green, then the light is green. So, if you throw a white shirt into the Red Sea, what will it become?\n",
      "['Green.', 'Red.', 'White.', 'None of above.']\n",
      "3 2 2\n",
      "\n"
     ]
    }
   ],
   "source": [
    "for item in first_comp:\n",
    "    print(item[\"id\"])\n",
    "    print(item[\"question\"])\n",
    "    print(item[\"choice_list\"])\n",
    "    print(item[\"label\"], item[\"base\"], item[\"human\"])\n",
    "    print(\"\")"
   ]
  },
  {
   "cell_type": "code",
   "execution_count": 22,
   "metadata": {},
   "outputs": [],
   "source": [
    "with open(\"human_wrongs.json\", \"w\") as f:\n",
    "    json.dump(human_wrongs, f, indent=4)\n",
    "with open(\"all_wrongs.json\", \"w\") as f:\n",
    "    json.dump(all_wrongs, f, indent=4)\n",
    "with open(\"old_wrongs.json\", \"w\") as f:\n",
    "    json.dump(old_wrongs, f, indent=4)\n",
    "with open(\"new_wrongs.json\", \"w\") as f:\n",
    "    json.dump(new_wrongs, f, indent=4)\n",
    "with open(\"machine_wrongs.json\", \"w\") as f:\n",
    "    json.dump(machine_wrongs, f, indent=4)"
   ]
  },
  {
   "cell_type": "code",
   "execution_count": 28,
   "metadata": {},
   "outputs": [
    {
     "name": "stdout",
     "output_type": "stream",
     "text": [
      "6\n",
      "SP-120_CR\n",
      "Mark was in a playground where somebody noticed a great player playing and with the announcements, gathered a lot of people. There were many great players from basketball, volleyball, football, and even swimmers, But Mark directly went to the footballer and took a photo with him. How did he know who was the person that people got excited for in the first place?\n",
      "[\"Since the playground was a football playground and the other players could've not been playing in the playground at the time of the announcement\", 'Since Mark was a crazy fan of football, only a football player can be considered as great player in his mind.', \"Since Mark stood closest to the football players, he only focused on football players and didn't notice others.\", 'None of above.']\n",
      "label:  0\n",
      "base:  3\n",
      "mix:  3\n",
      "human:  3\n",
      "SP-30_CR\n",
      "Why do old people consume more food than young people.\n",
      "['Older adults may have specific dietary requirements to address age-related issues', 'Older people require increased nutrient intake to support overall health and well-being.', 'Because older people live longer.', 'None of above.']\n",
      "label:  2\n",
      "base:  3\n",
      "mix:  3\n",
      "human:  3\n",
      "SP-156_CR\n",
      "A driver is told to make a stop every half an hour for the engine to cool down, for five times. How long do the stops take?\n",
      "['Three hours.', 'Two and a half hours.', 'Two hours.', 'None of above.']\n",
      "label:  2\n",
      "base:  3\n",
      "mix:  1\n",
      "human:  3\n",
      "SP-16_SR\n",
      "Crossing a lush and muddy meadow are three men. The third man's feet are still dry despite the fact that only two of them are wearing rubber boots. Why?\n",
      "['The ground is not wet.', 'By walking on stilts, the third man elevates his feet above the wet ground.', 'The third man is walking on his hands.', 'None of above.']\n",
      "label:  0\n",
      "base:  1\n",
      "mix:  1\n",
      "human:  1\n",
      "SP-189_CR\n",
      "How can you toss a fragile glass ball against a sturdy brick wall from a distance without shattering it?\n",
      "['No problem, because sturdy bricks are very hard to crack', 'You need to throw the glass ball hard.', 'You need to throw the glass ball gently.', 'None of above.']\n",
      "label:  0\n",
      "base:  3\n",
      "mix:  3\n",
      "human:  2\n",
      "SP-183_CR\n",
      "You wanted to reserve a table in a restaurant but they told you all their tables were already booked. however, when you're passing by, you see that there is not a single person eating in the restaurant. Why did they tell you that all their tables were fully booked?\n",
      "['All the people left the restaurant in a moment.', 'The resturant was soo big that all the people can hide themselves in a moment.', 'All the people in the restaurant are in relationships.', 'None of above.']\n",
      "label:  2\n",
      "base:  3\n",
      "mix:  3\n",
      "human:  3\n"
     ]
    }
   ],
   "source": [
    "print(len([item for item in old_wrongs if item in human_wrongs]))\n",
    "for item in old_wrongs:\n",
    "    if item in human_wrongs:\n",
    "        print(item[\"id\"])\n",
    "        print(item[\"question\"])\n",
    "        print(item[\"choice_list\"])\n",
    "        print(\"label: \", item[\"label\"])\n",
    "        print(\"base: \", item[\"base\"])\n",
    "        print(\"mix: \", item[\"mix\"])\n",
    "        print(\"human: \", item[\"human\"])\n"
   ]
  },
  {
   "cell_type": "code",
   "execution_count": 29,
   "metadata": {},
   "outputs": [
    {
     "name": "stdout",
     "output_type": "stream",
     "text": [
      "3\n",
      "SP-120_CR\n",
      "Mark was in a playground where somebody noticed a great player playing and with the announcements, gathered a lot of people. There were many great players from basketball, volleyball, football, and even swimmers, But Mark directly went to the footballer and took a photo with him. How did he know who was the person that people got excited for in the first place?\n",
      "[\"Since the playground was a football playground and the other players could've not been playing in the playground at the time of the announcement\", 'Since Mark was a crazy fan of football, only a football player can be considered as great player in his mind.', \"Since Mark stood closest to the football players, he only focused on football players and didn't notice others.\", 'None of above.']\n",
      "label:  0\n",
      "base:  3\n",
      "mix:  3\n",
      "human:  3\n",
      "base_new:  3\n",
      "mix_new:  3\n",
      "cr:  0\n",
      "sr:  3\n",
      "SP-158_SR\n",
      "During a 5-day competition, a professional fisherman caught 30 fish. He caught three more fish each day than the day before. On the first day, how many fish did the fisherman catch?\n",
      "['Two.', 'One.', 'Three.', 'None of above.']\n",
      "label:  3\n",
      "base:  1\n",
      "mix:  0\n",
      "human:  3\n",
      "base_new:  1\n",
      "mix_new:  1\n",
      "cr:  3\n",
      "sr:  1\n",
      "SP-72_SR\n",
      "Even though Emily is William's sister and William isn't married, Lisa is William's niece but not Emily's. How is that even doable?\n",
      "['Emily is adopted.', 'Emily and William share same father but not mother.', \"Lisa is Emily's daughter.\", 'None of above.']\n",
      "label:  2\n",
      "base:  3\n",
      "mix:  3\n",
      "human:  2\n",
      "base_new:  2\n",
      "mix_new:  2\n",
      "cr:  2\n",
      "sr:  0\n"
     ]
    }
   ],
   "source": [
    "print(len([item for item in old_wrongs if item not in new_wrongs]))\n",
    "for item in old_wrongs:\n",
    "    if item not in new_wrongs:\n",
    "        print(item[\"id\"])\n",
    "        print(item[\"question\"])\n",
    "        print(item[\"choice_list\"])\n",
    "        print(\"label: \", item[\"label\"])\n",
    "        print(\"base: \", item[\"base\"])\n",
    "        print(\"mix: \", item[\"mix\"])\n",
    "        print(\"human: \", item[\"human\"])\n",
    "        print(\"base_new: \", item[\"base_new\"])\n",
    "        print(\"mix_new: \", item[\"mix_new\"])\n",
    "        print(\"cr: \", item[\"cr\"])\n",
    "        print(\"sr: \", item[\"sr\"])"
   ]
  }
 ],
 "metadata": {
  "kernelspec": {
   "display_name": "brainteaser",
   "language": "python",
   "name": "python3"
  },
  "language_info": {
   "codemirror_mode": {
    "name": "ipython",
    "version": 3
   },
   "file_extension": ".py",
   "mimetype": "text/x-python",
   "name": "python",
   "nbconvert_exporter": "python",
   "pygments_lexer": "ipython3",
   "version": "3.10.13"
  }
 },
 "nbformat": 4,
 "nbformat_minor": 2
}
