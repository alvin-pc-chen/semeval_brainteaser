{
 "cells": [
  {
   "cell_type": "code",
   "execution_count": 2,
   "metadata": {},
   "outputs": [],
   "source": [
    "# Imports\n",
    "import os\n",
    "from pathlib import Path\n",
    "import re\n",
    "import numpy as np\n",
    "import csv\n",
    "\n",
    "# File locations\n",
    "ROOTDIR = str(Path().parent.absolute().parent.absolute())\n",
    "NPY_DATA_PATH = ROOTDIR + \"/data/new_test_data_nolabel\""
   ]
  },
  {
   "cell_type": "code",
   "execution_count": 4,
   "metadata": {},
   "outputs": [],
   "source": [
    "def find_npy_files(path):\n",
    "    \"\"\"\n",
    "    Finds all npy files and terminal folders in a given path\n",
    "    :param path: path to search\n",
    "    :return: list of npy files paths\n",
    "    \"\"\"\n",
    "    npy_files = []\n",
    "    for root, dirs, files in os.walk(path):\n",
    "        for file in files:\n",
    "            if file.endswith(\".npy\"):\n",
    "                npy_files.append(os.path.join(root, file))\n",
    "    return npy_files\n",
    "\n",
    "def remove_lines(string):\n",
    "    \"\"\"\n",
    "    Do a little clean up on the string:\n",
    "    1. remove new lines\n",
    "    2. remove extra (non-breaking, double, extra) spaces\n",
    "    3. replace period + semicolon and remove extra semicolons\n",
    "    TODO:\n",
    "    1. fix typos?\n",
    "    \"\"\"\n",
    "    if isinstance(string, str):\n",
    "        string = string.replace(\"\\n\", \"\")\n",
    "        string = string.replace(\"\\xa0\", \" \")\n",
    "        string = string.replace(\"  \", \" \")\n",
    "        string = string.replace(\".;\", \";\")\n",
    "        string = string.replace(\". ;\", \";\")\n",
    "        if string.startswith(\" \"):\n",
    "            string = string[1:]\n",
    "        if string.endswith(\" \"):\n",
    "            string = string[:-1]\n",
    "        if string.endswith(\"; \"):\n",
    "            string = string[:-2]\n",
    "        return string\n",
    "    elif isinstance(string, list):\n",
    "        return [remove_lines(x) for x in string]\n",
    "    else:\n",
    "        return str(string)\n",
    "\n",
    "\n",
    "def extra_spaces(string):\n",
    "    \"\"\"\n",
    "    Remove spaces at the start and end of string\n",
    "    \"\"\"\n",
    "    if isinstance(string, str):\n",
    "        if string.startswith(\" \"):\n",
    "            string = string[1:]\n",
    "        if string.endswith(\" \"):\n",
    "            string = string[:-1]\n",
    "        return string\n",
    "    else:\n",
    "        return str(string)\n",
    "\n",
    "\n",
    "def npy_to_txt(npy_path, txt_path):\n",
    "    \"\"\"\n",
    "    Converts npy files to txt files\n",
    "    :param npy_path: path to npy files\n",
    "    :param txt_path: path to save txt files\n",
    "    \"\"\"\n",
    "    npy = np.load(npy_path, allow_pickle=True)\n",
    "    with open(txt_path, 'w') as f:\n",
    "        for i in range(len(npy)):\n",
    "            f.write(\"Question \" + str(i+1) + \":\\n\")\n",
    "            for key in npy[i]:\n",
    "                f.write(remove_lines(key) + \": \")\n",
    "                if isinstance(npy[i][key], list):\n",
    "                    line = \"\".join(extra_spaces(x) + \"; \" for x in npy[i][key])\n",
    "                    f.write(remove_lines(line) + \"\\n\")\n",
    "                else:\n",
    "                    f.write(remove_lines(npy[i][key]) + \"\\n\")\n",
    "            f.write(\"\\n\\n\")"
   ]
  },
  {
   "cell_type": "code",
   "execution_count": 7,
   "metadata": {},
   "outputs": [
    {
     "name": "stdout",
     "output_type": "stream",
     "text": [
      "/Users/alvinchen/Documents/GitHub/brainteaser-data/data/new_test_data_nolabel/WP_new_test.npy\n"
     ]
    }
   ],
   "source": [
    "files = find_npy_files(NPY_DATA_PATH)\n",
    "print(files[0])"
   ]
  },
  {
   "cell_type": "code",
   "execution_count": 9,
   "metadata": {},
   "outputs": [],
   "source": [
    "npy_to_txt(files[1], files[1].replace(\".npy\", \".txt\"))"
   ]
  },
  {
   "cell_type": "code",
   "execution_count": 12,
   "metadata": {},
   "outputs": [],
   "source": [
    "sp = np.load(files[1], allow_pickle=True)\n",
    "wp = np.load(files[0], allow_pickle=True)"
   ]
  },
  {
   "cell_type": "code",
   "execution_count": 13,
   "metadata": {},
   "outputs": [
    {
     "name": "stdout",
     "output_type": "stream",
     "text": [
      "120\n",
      "96\n"
     ]
    }
   ],
   "source": [
    "print(len(sp))\n",
    "print(len(wp))"
   ]
  }
 ],
 "metadata": {
  "kernelspec": {
   "display_name": "brainteaser",
   "language": "python",
   "name": "python3"
  },
  "language_info": {
   "codemirror_mode": {
    "name": "ipython",
    "version": 3
   },
   "file_extension": ".py",
   "mimetype": "text/x-python",
   "name": "python",
   "nbconvert_exporter": "python",
   "pygments_lexer": "ipython3",
   "version": "3.10.13"
  }
 },
 "nbformat": 4,
 "nbformat_minor": 2
}
